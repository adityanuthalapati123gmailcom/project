{
  "cells": [
    {
      "cell_type": "code",
      "execution_count": 1,
      "metadata": {
        "id": "-2RvwmNDoz3R"
      },
      "outputs": [],
      "source": [
        "import numpy as np\n",
        "import pandas as pd\n",
        "import os\n",
        "import matplotlib.pyplot as plt\n",
        "import tensorflow as tf \n",
        "\n",
        "\n",
        "from tensorflow.keras.utils import to_categorical\n",
        "from tensorflow.keras.preprocessing.image import load_img, img_to_array\n",
        "from tensorflow.keras.preprocessing.image import ImageDataGenerator\n",
        "\n",
        "from sklearn.metrics import classification_report, log_loss, accuracy_score\n",
        "from sklearn.model_selection import train_test_split"
      ]
    },
    {
      "cell_type": "code",
      "execution_count": 2,
      "metadata": {
        "colab": {
          "base_uri": "https://localhost:8080/"
        },
        "id": "Xn6LERIUo4Ez",
        "outputId": "fa7ab24f-ec68-42a1-fe81-fdb2dfd2b5cb"
      },
      "outputs": [
        {
          "name": "stdout",
          "output_type": "stream",
          "text": [
            "Mounted at /content/drive\n"
          ]
        }
      ],
      "source": [
        "from google.colab import drive\n",
        "drive.mount('/content/drive')"
      ]
    },
    {
      "cell_type": "code",
      "execution_count": 3,
      "metadata": {
        "id": "Cc5gaBqMo8ZJ"
      },
      "outputs": [],
      "source": [
        "dir_sp_train = '/content/drive/My Drive/project_drawings/spiral/training'\n",
        "dir_sp_test = '/content/drive/My Drive/project_drawings/spiral/testing'\n",
        "dir_wv_train = '/content/drive/My Drive/project_drawings/wave/training'\n",
        "dir_wv_test = '/content/drive/My Drive/project_drawings/wave/testing'"
      ]
    },
    {
      "cell_type": "code",
      "execution_count": 4,
      "metadata": {
        "colab": {
          "base_uri": "https://localhost:8080/"
        },
        "id": "OKqpICwGo_SS",
        "outputId": "2201b6cf-6a64-47dc-8e29-8fdd4e612b65"
      },
      "outputs": [
        {
          "name": "stdout",
          "output_type": "stream",
          "text": [
            "['healthy', 'parkinson']\n",
            "2\n"
          ]
        }
      ],
      "source": [
        "Name=[]\n",
        "for file in os.listdir(dir_sp_train):\n",
        "    Name+=[file]\n",
        "print(Name)\n",
        "print(len(Name))"
      ]
    },
    {
      "cell_type": "code",
      "execution_count": 5,
      "metadata": {
        "id": "RunHJLNmxSeg"
      },
      "outputs": [],
      "source": [
        "N=[]\n",
        "for i in range(len(Name)):\n",
        "    N+=[i]\n",
        "    \n",
        "normal_mapping=dict(zip(Name,N)) \n",
        "reverse_mapping=dict(zip(N,Name)) \n",
        "\n",
        "def mapper(value):\n",
        "    return reverse_mapping[value]"
      ]
    },
    {
      "cell_type": "code",
      "execution_count": 6,
      "metadata": {
        "id": "p32q6EQ9pF8g"
      },
      "outputs": [],
      "source": [
        "dataset_sp=[]\n",
        "count=0\n",
        "for file in os.listdir(dir_sp_train):\n",
        "    path=os.path.join(dir_sp_train,file)\n",
        "    for im in os.listdir(path):\n",
        "        image=load_img(os.path.join(path,im), grayscale=False, color_mode='rgb', target_size=(128,128))\n",
        "        image=img_to_array(image)\n",
        "        image=image/255.0\n",
        "        dataset_sp.append([image,count])\n",
        "    count=count+1\n",
        "    \n",
        "testset_sp=[]\n",
        "count=0\n",
        "for file in os.listdir(dir_sp_test):\n",
        "    path=os.path.join(dir_sp_test,file)\n",
        "    for im in os.listdir(path):\n",
        "        image=load_img(os.path.join(path,im), grayscale=False, color_mode='rgb', target_size=(128,128))\n",
        "        image=img_to_array(image)\n",
        "        image=image/255.0\n",
        "        testset_sp.append([image,count])\n",
        "    count=count+1 "
      ]
    },
    {
      "cell_type": "code",
      "execution_count": 7,
      "metadata": {
        "id": "cQ-sgHDExlFt"
      },
      "outputs": [],
      "source": [
        "dataset_wv=[]\n",
        "count=0\n",
        "for file in os.listdir(dir_wv_train):\n",
        "    path=os.path.join(dir_wv_train,file)\n",
        "    for im in os.listdir(path):\n",
        "        image=load_img(os.path.join(path,im), grayscale=False, color_mode='rgb', target_size=(128,128))\n",
        "        image=img_to_array(image)\n",
        "        image=image/255.0\n",
        "        dataset_wv.append([image,count])\n",
        "    count=count+1\n",
        "    \n",
        "testset_wv=[]\n",
        "count=0\n",
        "for file in os.listdir(dir_wv_test):\n",
        "    path=os.path.join(dir_wv_test,file)\n",
        "    for im in os.listdir(path):\n",
        "        image=load_img(os.path.join(path,im), grayscale=False, color_mode='rgb', target_size=(128,128))\n",
        "        image=img_to_array(image)\n",
        "        image=image/255.0\n",
        "        testset_wv.append([image,count])\n",
        "    count=count+1   "
      ]
    },
    {
      "cell_type": "code",
      "execution_count": 8,
      "metadata": {
        "id": "R-dhCmsgpLq0"
      },
      "outputs": [],
      "source": [
        "data_sp,labels_sp0=zip(*dataset_sp)\n",
        "test_sp,tlabels_sp0=zip(*testset_sp)\n",
        "\n",
        "data_wv,labels_wv0=zip(*dataset_wv)\n",
        "test_wv,tlabels_wv0=zip(*testset_wv)"
      ]
    },
    {
      "cell_type": "code",
      "execution_count": 9,
      "metadata": {
        "id": "tG6X_nM-pMx7"
      },
      "outputs": [],
      "source": [
        "labels_sp1=to_categorical(labels_sp0)\n",
        "data_sp=np.array(data_sp)\n",
        "labels_sp=np.array(labels_sp1)\n",
        "\n",
        "tlabels_sp1=to_categorical(tlabels_sp0)\n",
        "test_sp=np.array(test_sp)\n",
        "tlabels_sp=np.array(tlabels_sp1)"
      ]
    },
    {
      "cell_type": "code",
      "execution_count": 10,
      "metadata": {
        "id": "ReTgvPb4pUeE"
      },
      "outputs": [],
      "source": [
        "labels_wv1=to_categorical(labels_wv0)\n",
        "data_wv=np.array(data_wv)\n",
        "labels_wv=np.array(labels_wv1)\n",
        "\n",
        "tlabels_wv1=to_categorical(tlabels_wv0)\n",
        "test_wv=np.array(test_wv)\n",
        "tlabels_wv=np.array(tlabels_wv1)\n",
        "trainx_sp,testx_sp,trainy_sp,testy_sp=train_test_split(data_sp,labels_sp,test_size=0.2,random_state=44)\n",
        "trainx_wv,testx_wv,trainy_wv,testy_wv=train_test_split(data_wv,labels_wv,test_size=0.2,random_state=44)\n"
      ]
    },
    {
      "cell_type": "code",
      "execution_count": 23,
      "metadata": {
        "id": "0UBRy0I4p5bB"
      },
      "outputs": [],
      "source": [
        "datagen = ImageDataGenerator(rotation_range=60, \n",
        "                                    width_shift_range=0.1, \n",
        "                                    height_shift_range=0.1, \n",
        "                                    brightness_range=[0.5, 1.5],\n",
        "                                    horizontal_flip=True, \n",
        "                                    vertical_flip=True,\n",
        "                                    zoom_range=0.1)"
      ]
    },
    {
      "cell_type": "code",
      "execution_count": 11,
      "metadata": {
        "colab": {
          "base_uri": "https://localhost:8080/"
        },
        "id": "SaxSmrzLqx5f",
        "outputId": "9617bbbd-e2e7-4e64-f2d1-5f67622c1550"
      },
      "outputs": [
        {
          "name": "stdout",
          "output_type": "stream",
          "text": [
            "Downloading data from https://storage.googleapis.com/tensorflow/keras-applications/densenet/densenet201_weights_tf_dim_ordering_tf_kernels_notop.h5\n",
            "74836368/74836368 [==============================] - 0s 0us/step\n"
          ]
        }
      ],
      "source": [
        "pretrained_model3 = tf.keras.applications.DenseNet201(input_shape=(128,128,3),include_top=False,weights='imagenet',pooling='avg')\n",
        "pretrained_model3.trainable = False\n",
        "\n",
        "pretrained_model4 = tf.keras.applications.DenseNet201(input_shape=(128,128,3),include_top=False,weights='imagenet',pooling='avg')\n",
        "pretrained_model4.trainable = False"
      ]
    },
    {
      "cell_type": "code",
      "execution_count": 12,
      "metadata": {
        "id": "_CNfX2O5rG24"
      },
      "outputs": [],
      "source": [
        "inputs3 = pretrained_model3.input\n",
        "x3 = tf.keras.layers.Dense(128, activation='relu')(pretrained_model3.output)\n",
        "outputs3 = tf.keras.layers.Dense(2, activation='softmax')(x3)\n",
        "model3 = tf.keras.Model(inputs=inputs3, outputs=outputs3)\n",
        "\n",
        "inputs4 = pretrained_model4.input\n",
        "x4 = tf.keras.layers.Dense(128, activation='relu')(pretrained_model4.output)\n",
        "outputs4 = tf.keras.layers.Dense(2, activation='softmax')(x4)\n",
        "model4 = tf.keras.Model(inputs=inputs4, outputs=outputs4)"
      ]
    },
    {
      "cell_type": "code",
      "execution_count": 24,
      "metadata": {
        "id": "NKRSWDiByt5I"
      },
      "outputs": [],
      "source": [
        "model3.compile(optimizer='adam',loss='categorical_crossentropy',metrics=['accuracy'])\n",
        "model4.compile(optimizer='adam',loss='categorical_crossentropy',metrics=['accuracy'])"
      ]
    },
    {
      "cell_type": "code",
      "execution_count": 25,
      "metadata": {
        "colab": {
          "base_uri": "https://localhost:8080/"
        },
        "id": "I3nfLu6wyxk3",
        "outputId": "ac5ec1b6-6f2e-4737-d392-5245cd79540c"
      },
      "outputs": [
        {
          "name": "stdout",
          "output_type": "stream",
          "text": [
            "Epoch 1/50\n",
            "2/2 [==============================] - 17s 2s/step - loss: 1.0706 - accuracy: 0.4737\n",
            "Epoch 2/50\n",
            "2/2 [==============================] - 7s 4s/step - loss: 0.6524 - accuracy: 0.6140\n",
            "Epoch 3/50\n",
            "2/2 [==============================] - 4s 2s/step - loss: 0.7228 - accuracy: 0.5088\n",
            "Epoch 4/50\n",
            "2/2 [==============================] - 5s 3s/step - loss: 0.4968 - accuracy: 0.8070\n",
            "Epoch 5/50\n",
            "2/2 [==============================] - 5s 2s/step - loss: 0.5483 - accuracy: 0.7368\n",
            "Epoch 6/50\n",
            "2/2 [==============================] - 4s 2s/step - loss: 0.4631 - accuracy: 0.8070\n",
            "Epoch 7/50\n",
            "2/2 [==============================] - 5s 3s/step - loss: 0.4161 - accuracy: 0.8421\n",
            "Epoch 8/50\n",
            "2/2 [==============================] - 5s 2s/step - loss: 0.4435 - accuracy: 0.7719\n",
            "Epoch 9/50\n",
            "2/2 [==============================] - 6s 3s/step - loss: 0.3803 - accuracy: 0.8596\n",
            "Epoch 10/50\n",
            "2/2 [==============================] - 4s 2s/step - loss: 0.3797 - accuracy: 0.8421\n",
            "Epoch 11/50\n",
            "2/2 [==============================] - 7s 4s/step - loss: 0.3188 - accuracy: 0.8947\n",
            "Epoch 12/50\n",
            "2/2 [==============================] - 5s 2s/step - loss: 0.3619 - accuracy: 0.8596\n",
            "Epoch 13/50\n",
            "2/2 [==============================] - 4s 2s/step - loss: 0.2899 - accuracy: 0.9123\n",
            "Epoch 14/50\n",
            "2/2 [==============================] - 6s 2s/step - loss: 0.3157 - accuracy: 0.8246\n",
            "Epoch 15/50\n",
            "2/2 [==============================] - 5s 3s/step - loss: 0.3248 - accuracy: 0.8596\n",
            "Epoch 16/50\n",
            "2/2 [==============================] - 6s 2s/step - loss: 0.3535 - accuracy: 0.8246\n",
            "Epoch 17/50\n",
            "2/2 [==============================] - 4s 3s/step - loss: 0.3099 - accuracy: 0.9123\n",
            "Epoch 18/50\n",
            "2/2 [==============================] - 7s 4s/step - loss: 0.2449 - accuracy: 0.9298\n",
            "Epoch 19/50\n",
            "2/2 [==============================] - 5s 2s/step - loss: 0.2632 - accuracy: 0.9298\n",
            "Epoch 20/50\n",
            "2/2 [==============================] - 7s 3s/step - loss: 0.2173 - accuracy: 0.9474\n",
            "Epoch 21/50\n",
            "2/2 [==============================] - 5s 2s/step - loss: 0.2408 - accuracy: 0.9123\n",
            "Epoch 22/50\n",
            "2/2 [==============================] - 6s 2s/step - loss: 0.2659 - accuracy: 0.9298\n",
            "Epoch 23/50\n",
            "2/2 [==============================] - 4s 2s/step - loss: 0.2593 - accuracy: 0.9123\n",
            "Epoch 24/50\n",
            "2/2 [==============================] - 6s 4s/step - loss: 0.2337 - accuracy: 0.8947\n",
            "Epoch 25/50\n",
            "2/2 [==============================] - 4s 2s/step - loss: 0.2345 - accuracy: 0.9123\n",
            "Epoch 26/50\n",
            "2/2 [==============================] - 6s 4s/step - loss: 0.2205 - accuracy: 0.9474\n",
            "Epoch 27/50\n",
            "2/2 [==============================] - 5s 2s/step - loss: 0.2063 - accuracy: 0.9298\n",
            "Epoch 28/50\n",
            "2/2 [==============================] - 4s 2s/step - loss: 0.2330 - accuracy: 0.9298\n",
            "Epoch 29/50\n",
            "2/2 [==============================] - 7s 4s/step - loss: 0.2935 - accuracy: 0.8947\n",
            "Epoch 30/50\n",
            "2/2 [==============================] - 5s 2s/step - loss: 0.2702 - accuracy: 0.8772\n",
            "Epoch 31/50\n",
            "2/2 [==============================] - 5s 2s/step - loss: 0.2442 - accuracy: 0.9298\n",
            "Epoch 32/50\n",
            "2/2 [==============================] - 5s 2s/step - loss: 0.2052 - accuracy: 0.9474\n",
            "Epoch 33/50\n",
            "2/2 [==============================] - 5s 3s/step - loss: 0.2146 - accuracy: 0.8947\n",
            "Epoch 34/50\n",
            "2/2 [==============================] - 4s 2s/step - loss: 0.2358 - accuracy: 0.9123\n",
            "Epoch 35/50\n",
            "2/2 [==============================] - 6s 4s/step - loss: 0.1827 - accuracy: 0.9474\n",
            "Epoch 36/50\n",
            "2/2 [==============================] - 4s 2s/step - loss: 0.2040 - accuracy: 0.9298\n",
            "Epoch 37/50\n",
            "2/2 [==============================] - 4s 2s/step - loss: 0.1767 - accuracy: 0.9474\n",
            "Epoch 38/50\n",
            "2/2 [==============================] - 8s 3s/step - loss: 0.1722 - accuracy: 0.9474\n",
            "Epoch 39/50\n",
            "2/2 [==============================] - 5s 2s/step - loss: 0.1951 - accuracy: 0.9474\n",
            "Epoch 40/50\n",
            "2/2 [==============================] - 5s 4s/step - loss: 0.1622 - accuracy: 0.9825\n",
            "Epoch 41/50\n",
            "2/2 [==============================] - 5s 2s/step - loss: 0.1609 - accuracy: 0.9298\n",
            "Epoch 42/50\n",
            "2/2 [==============================] - 6s 3s/step - loss: 0.1683 - accuracy: 0.9474\n",
            "Epoch 43/50\n",
            "2/2 [==============================] - 9s 4s/step - loss: 0.1081 - accuracy: 0.9825\n",
            "Epoch 44/50\n",
            "2/2 [==============================] - 8s 3s/step - loss: 0.1777 - accuracy: 0.9649\n",
            "Epoch 45/50\n",
            "2/2 [==============================] - 4s 2s/step - loss: 0.2231 - accuracy: 0.9123\n",
            "Epoch 46/50\n",
            "2/2 [==============================] - 7s 3s/step - loss: 0.2055 - accuracy: 0.9298\n",
            "Epoch 47/50\n",
            "2/2 [==============================] - 6s 2s/step - loss: 0.2034 - accuracy: 0.9298\n",
            "Epoch 48/50\n",
            "2/2 [==============================] - 5s 3s/step - loss: 0.0953 - accuracy: 1.0000\n",
            "Epoch 49/50\n",
            "2/2 [==============================] - 4s 2s/step - loss: 0.2164 - accuracy: 0.8947\n",
            "Epoch 50/50\n",
            "2/2 [==============================] - 6s 4s/step - loss: 0.1392 - accuracy: 0.9825\n"
          ]
        }
      ],
      "source": [
        "his3=model3.fit(datagen.flow(trainx_sp,trainy_sp,batch_size=32),epochs=50)"
      ]
    },
    {
      "cell_type": "code",
      "execution_count": null,
      "metadata": {
        "colab": {
          "base_uri": "https://localhost:8080/"
        },
        "id": "c-DIgB2SrIwY",
        "outputId": "d10c290f-0748-44f9-e74b-ff646475a0ba"
      },
      "outputs": [
        {
          "name": "stdout",
          "output_type": "stream",
          "text": [
            "1/1 [==============================] - 6s 6s/step\n",
            "              precision    recall  f1-score   support\n",
            "\n",
            "           0       0.62      0.83      0.71         6\n",
            "           1       0.86      0.67      0.75         9\n",
            "\n",
            "    accuracy                           0.73        15\n",
            "   macro avg       0.74      0.75      0.73        15\n",
            "weighted avg       0.76      0.73      0.74        15\n",
            "\n"
          ]
        }
      ],
      "source": [
        "y_pred_sp=model3.predict(testx_sp)\n",
        "pred_sp=np.argmax(y_pred_sp,axis=1)\n",
        "ground_sp = np.argmax(testy_sp,axis=1)\n",
        "print(classification_report(ground_sp,pred_sp))"
      ]
    },
    {
      "cell_type": "code",
      "execution_count": 22,
      "metadata": {
        "colab": {
          "base_uri": "https://localhost:8080/",
          "height": 373
        },
        "id": "5NOsSgNHKl4D",
        "outputId": "e8aee6b5-29c6-429d-dae9-6e0aee9f6bfd"
      },
      "outputs": [
        {
          "name": "stdout",
          "output_type": "stream",
          "text": [
            "/content/drive/My Drive/Copy of 1.png\n",
            "(1, 128, 128, 3)\n",
            "1/1 [==============================] - 4s 4s/step\n",
            "<class 'numpy.ndarray'>\n",
            "Person has healthy. [[1.4251525e-37 1.0000000e+00]]\n"
          ]
        },
        {
          "data": {
            "text/plain": [
              "<matplotlib.image.AxesImage at 0x7f7666a48ac0>"
            ]
          },
          "execution_count": 22,
          "metadata": {},
          "output_type": "execute_result"
        },
        {
          "data": {
            "image/png": "[encoded data removed]",
            "text/plain": [
              "<Figure size 432x288 with 1 Axes>"
            ]
          },
          "metadata": {
            "needs_background": "light"
          },
          "output_type": "display_data"
        }
      ],
      "source": [
        "from PIL import Image\n",
        "path = input()\n",
        "image = Image.open(path)\n",
        "new_img = image.resize((128,128)) \n",
        "plt.imshow(new_img)\n",
        "img_array = np.asarray(new_img)\n",
        "img_array = img_array.reshape(-1,128,128,3)\n",
        "print(img_array.shape)\n",
        "prediction = model3.predict(img_array)\n",
        "print(type(prediction[0]))\n",
        "if np.any(prediction) > 0.5:\n",
        "    \n",
        "    print(\"Person has healthy.\",prediction)\n",
        "else:\n",
        "    print(\"Person has Parkinson\",prediction)\n",
        "    \n",
        "plt.imshow(image)"
      ]
    },
    {
      "cell_type": "code",
      "execution_count": 14,
      "metadata": {
        "id": "zL52y2MV3MXb"
      },
      "outputs": [],
      "source": [
        "datagen = ImageDataGenerator(rotation_range=5, \n",
        "                                    width_shift_range=0.1, \n",
        "                                    height_shift_range=0.1, \n",
        "                                    brightness_range=(0.3,1.8),\n",
        "                                    shear_range = 0.1,\n",
        "                                    zoom_range=0.2,\n",
        "                                    horizontal_flip=True, \n",
        "                                    vertical_flip=True)"
      ]
    },
    {
      "cell_type": "code",
      "execution_count": 21,
      "metadata": {
        "colab": {
          "base_uri": "https://localhost:8080/"
        },
        "id": "pxn4NiDguNJi",
        "outputId": "e20f1274-5112-453f-8f49-056499cf570f"
      },
      "outputs": [
        {
          "name": "stdout",
          "output_type": "stream",
          "text": [
            "Epoch 1/50\n",
            "2/2 [==============================] - 25s 8s/step - loss: 0.4639 - accuracy: 0.7544 - val_loss: 0.5884 - val_accuracy: 0.8000\n",
            "Epoch 2/50\n",
            "2/2 [==============================] - 5s 3s/step - loss: 0.4365 - accuracy: 0.8421 - val_loss: 0.4624 - val_accuracy: 0.6667\n",
            "Epoch 3/50\n",
            "2/2 [==============================] - 7s 3s/step - loss: 0.4998 - accuracy: 0.7018 - val_loss: 0.4186 - val_accuracy: 0.7333\n",
            "Epoch 4/50\n",
            "2/2 [==============================] - 7s 5s/step - loss: 0.3110 - accuracy: 0.8596 - val_loss: 0.5277 - val_accuracy: 0.8000\n",
            "Epoch 5/50\n",
            "2/2 [==============================] - 5s 4s/step - loss: 0.4754 - accuracy: 0.7895 - val_loss: 0.5931 - val_accuracy: 0.8000\n",
            "Epoch 6/50\n",
            "2/2 [==============================] - 8s 6s/step - loss: 0.4276 - accuracy: 0.8246 - val_loss: 0.4689 - val_accuracy: 0.8667\n",
            "Epoch 7/50\n",
            "2/2 [==============================] - 5s 3s/step - loss: 0.4064 - accuracy: 0.8246 - val_loss: 0.4131 - val_accuracy: 0.8000\n",
            "Epoch 8/50\n",
            "2/2 [==============================] - 5s 3s/step - loss: 0.4728 - accuracy: 0.7895 - val_loss: 0.4253 - val_accuracy: 0.8000\n",
            "Epoch 9/50\n",
            "2/2 [==============================] - 7s 4s/step - loss: 0.3506 - accuracy: 0.8070 - val_loss: 0.5066 - val_accuracy: 0.8667\n",
            "Epoch 10/50\n",
            "2/2 [==============================] - 6s 4s/step - loss: 0.3515 - accuracy: 0.8596 - val_loss: 0.6587 - val_accuracy: 0.8000\n",
            "Epoch 11/50\n",
            "2/2 [==============================] - 5s 3s/step - loss: 0.3783 - accuracy: 0.8070 - val_loss: 0.6807 - val_accuracy: 0.8000\n",
            "Epoch 12/50\n",
            "2/2 [==============================] - 8s 5s/step - loss: 0.4027 - accuracy: 0.8246 - val_loss: 0.5435 - val_accuracy: 0.8667\n",
            "Epoch 13/50\n",
            "2/2 [==============================] - 5s 4s/step - loss: 0.3224 - accuracy: 0.9298 - val_loss: 0.5072 - val_accuracy: 0.8000\n",
            "Epoch 14/50\n",
            "2/2 [==============================] - 7s 4s/step - loss: 0.3898 - accuracy: 0.8772 - val_loss: 0.4997 - val_accuracy: 0.8000\n",
            "Epoch 15/50\n",
            "2/2 [==============================] - 6s 3s/step - loss: 0.2937 - accuracy: 0.8596 - val_loss: 0.5275 - val_accuracy: 0.8667\n",
            "Epoch 16/50\n",
            "2/2 [==============================] - 6s 4s/step - loss: 0.2937 - accuracy: 0.8772 - val_loss: 0.5804 - val_accuracy: 0.8000\n",
            "Epoch 17/50\n",
            "2/2 [==============================] - 6s 3s/step - loss: 0.3614 - accuracy: 0.8596 - val_loss: 0.5770 - val_accuracy: 0.8000\n",
            "Epoch 18/50\n",
            "2/2 [==============================] - 7s 4s/step - loss: 0.3412 - accuracy: 0.8421 - val_loss: 0.5457 - val_accuracy: 0.8000\n",
            "Epoch 19/50\n",
            "2/2 [==============================] - 6s 3s/step - loss: 0.3435 - accuracy: 0.8421 - val_loss: 0.5339 - val_accuracy: 0.8000\n",
            "Epoch 20/50\n",
            "2/2 [==============================] - 8s 5s/step - loss: 0.3373 - accuracy: 0.8070 - val_loss: 0.4779 - val_accuracy: 0.8000\n",
            "Epoch 21/50\n",
            "2/2 [==============================] - 5s 3s/step - loss: 0.2017 - accuracy: 0.9298 - val_loss: 0.4189 - val_accuracy: 0.8000\n",
            "Epoch 22/50\n",
            "2/2 [==============================] - 6s 4s/step - loss: 0.3627 - accuracy: 0.8421 - val_loss: 0.4699 - val_accuracy: 0.8000\n",
            "Epoch 23/50\n",
            "2/2 [==============================] - 5s 3s/step - loss: 0.3967 - accuracy: 0.8246 - val_loss: 0.4895 - val_accuracy: 0.8000\n",
            "Epoch 24/50\n",
            "2/2 [==============================] - 7s 4s/step - loss: 0.2276 - accuracy: 0.9474 - val_loss: 0.4803 - val_accuracy: 0.8000\n",
            "Epoch 25/50\n",
            "2/2 [==============================] - 5s 3s/step - loss: 0.3173 - accuracy: 0.9123 - val_loss: 0.4040 - val_accuracy: 0.8000\n",
            "Epoch 26/50\n",
            "2/2 [==============================] - 7s 4s/step - loss: 0.3806 - accuracy: 0.8246 - val_loss: 0.4033 - val_accuracy: 0.8667\n",
            "Epoch 27/50\n",
            "2/2 [==============================] - 10s 6s/step - loss: 0.3454 - accuracy: 0.8596 - val_loss: 0.4141 - val_accuracy: 0.8667\n",
            "Epoch 28/50\n",
            "2/2 [==============================] - 7s 5s/step - loss: 0.3411 - accuracy: 0.8947 - val_loss: 0.4845 - val_accuracy: 0.8000\n",
            "Epoch 29/50\n",
            "2/2 [==============================] - 5s 3s/step - loss: 0.3015 - accuracy: 0.8772 - val_loss: 0.4643 - val_accuracy: 0.8000\n",
            "Epoch 30/50\n",
            "2/2 [==============================] - 7s 4s/step - loss: 0.2618 - accuracy: 0.9298 - val_loss: 0.4186 - val_accuracy: 0.8000\n",
            "Epoch 31/50\n",
            "2/2 [==============================] - 5s 3s/step - loss: 0.2500 - accuracy: 0.8947 - val_loss: 0.4083 - val_accuracy: 0.8000\n",
            "Epoch 32/50\n",
            "2/2 [==============================] - 7s 4s/step - loss: 0.2559 - accuracy: 0.8772 - val_loss: 0.3981 - val_accuracy: 0.8000\n",
            "Epoch 33/50\n",
            "2/2 [==============================] - 5s 3s/step - loss: 0.2579 - accuracy: 0.9474 - val_loss: 0.4401 - val_accuracy: 0.8000\n",
            "Epoch 34/50\n",
            "2/2 [==============================] - 10s 6s/step - loss: 0.2801 - accuracy: 0.9123 - val_loss: 0.4785 - val_accuracy: 0.8000\n",
            "Epoch 35/50\n",
            "2/2 [==============================] - 6s 4s/step - loss: 0.2660 - accuracy: 0.8947 - val_loss: 0.4580 - val_accuracy: 0.8000\n",
            "Epoch 36/50\n",
            "2/2 [==============================] - 7s 4s/step - loss: 0.2580 - accuracy: 0.8772 - val_loss: 0.4573 - val_accuracy: 0.8000\n",
            "Epoch 37/50\n",
            "2/2 [==============================] - 5s 3s/step - loss: 0.2426 - accuracy: 0.8947 - val_loss: 0.4639 - val_accuracy: 0.8000\n",
            "Epoch 38/50\n",
            "2/2 [==============================] - 7s 4s/step - loss: 0.2631 - accuracy: 0.8772 - val_loss: 0.5181 - val_accuracy: 0.8000\n",
            "Epoch 39/50\n",
            "2/2 [==============================] - 5s 3s/step - loss: 0.2535 - accuracy: 0.8947 - val_loss: 0.5829 - val_accuracy: 0.8000\n",
            "Epoch 40/50\n",
            "2/2 [==============================] - 8s 5s/step - loss: 0.2705 - accuracy: 0.8772 - val_loss: 0.5560 - val_accuracy: 0.8000\n",
            "Epoch 41/50\n",
            "2/2 [==============================] - 9s 6s/step - loss: 0.2485 - accuracy: 0.9474 - val_loss: 0.4483 - val_accuracy: 0.8000\n",
            "Epoch 42/50\n",
            "2/2 [==============================] - 6s 3s/step - loss: 0.2832 - accuracy: 0.8772 - val_loss: 0.4204 - val_accuracy: 0.8000\n",
            "Epoch 43/50\n",
            "2/2 [==============================] - 7s 3s/step - loss: 0.2455 - accuracy: 0.8772 - val_loss: 0.4326 - val_accuracy: 0.8000\n",
            "Epoch 44/50\n",
            "2/2 [==============================] - 7s 5s/step - loss: 0.2901 - accuracy: 0.8421 - val_loss: 0.5205 - val_accuracy: 0.8000\n",
            "Epoch 45/50\n",
            "2/2 [==============================] - 5s 3s/step - loss: 0.2194 - accuracy: 0.9298 - val_loss: 0.5162 - val_accuracy: 0.8000\n",
            "Epoch 46/50\n",
            "2/2 [==============================] - 5s 3s/step - loss: 0.1797 - accuracy: 0.9298 - val_loss: 0.4346 - val_accuracy: 0.8000\n",
            "Epoch 47/50\n",
            "2/2 [==============================] - 7s 5s/step - loss: 0.1916 - accuracy: 0.9298 - val_loss: 0.4340 - val_accuracy: 0.8000\n",
            "Epoch 48/50\n",
            "2/2 [==============================] - 8s 3s/step - loss: 0.2566 - accuracy: 0.8596 - val_loss: 0.4517 - val_accuracy: 0.8000\n",
            "Epoch 49/50\n",
            "2/2 [==============================] - 8s 7s/step - loss: 0.1853 - accuracy: 0.9123 - val_loss: 0.4894 - val_accuracy: 0.8000\n",
            "Epoch 50/50\n",
            "2/2 [==============================] - 5s 3s/step - loss: 0.2266 - accuracy: 0.8947 - val_loss: 0.4406 - val_accuracy: 0.8000\n"
          ]
        }
      ],
      "source": [
        "his4=model4.fit(datagen.flow(trainx_wv,trainy_wv,batch_size=32),validation_data=(testx_wv,testy_wv),epochs=50)"
      ]
    },
    {
      "cell_type": "code",
      "execution_count": 18,
      "metadata": {
        "colab": {
          "base_uri": "https://localhost:8080/"
        },
        "id": "f9eST7oxuqKx",
        "outputId": "9dea1d00-70d9-4b2e-a35e-363ea8a58481"
      },
      "outputs": [
        {
          "name": "stdout",
          "output_type": "stream",
          "text": [
            "1/1 - 1s - loss: 0.4881 - accuracy: 0.7333 - 1s/epoch - 1s/step\n",
            "Test accuracy: 0.7333333492279053\n"
          ]
        }
      ],
      "source": [
        "test_loss, test_acc = model4.evaluate(testx_wv,testy_wv, verbose=2)\n",
        "print(\"Test accuracy:\", test_acc)"
      ]
    },
    {
      "cell_type": "code",
      "execution_count": 22,
      "metadata": {
        "colab": {
          "base_uri": "https://localhost:8080/",
          "height": 314
        },
        "id": "kC_C7--LnXIT",
        "outputId": "be4d4ca1-de63-4299-9f7c-93c8ef97d047"
      },
      "outputs": [
        {
          "name": "stdout",
          "output_type": "stream",
          "text": [
            "/content/drive/My Drive/Copy of 2.png\n",
            "(1, 128, 128, 3)\n",
            "1/1 [==============================] - 4s 4s/step\n",
            "<class 'numpy.ndarray'>\n",
            "Person has healthy. [[0.9910466  0.00895338]]\n"
          ]
        },
        {
          "data": {
            "text/plain": [
              "<matplotlib.image.AxesImage at 0x7f363dcbbb50>"
            ]
          },
          "execution_count": 22,
          "metadata": {},
          "output_type": "execute_result"
        },
        {
          "data": {
            "image/png": "[encoded data removed]",
            "text/plain": [
              "<Figure size 432x288 with 1 Axes>"
            ]
          },
          "metadata": {
            "needs_background": "light"
          },
          "output_type": "display_data"
        }
      ],
      "source": [
        "from PIL import Image\n",
        "path = input()\n",
        "image = Image.open(path)\n",
        "new_img = image.resize((128,128)) \n",
        "plt.imshow(new_img)\n",
        "img_array = np.asarray(new_img)\n",
        "img_array = img_array.reshape(-1,128,128,3)\n",
        "print(img_array.shape)\n",
        "prediction = model3.predict(img_array)\n",
        "print(type(prediction[0]))\n",
        "if np.any(prediction) > 0.5:\n",
        "    \n",
        "    print(\"Person has healthy.\",prediction)\n",
        "else:\n",
        "    print(\"Person has Parkinson\",prediction)\n",
        "    \n",
        "plt.imshow(image)"
      ]
    }
  ],
  "metadata": {
    "colab": {
      "provenance": []
    },
    "kernelspec": {
      "display_name": "Python 3",
      "name": "python3"
    },
    "language_info": {
      "name": "python"
    }
  },
  "nbformat": 4,
  "nbformat_minor": 0
}
